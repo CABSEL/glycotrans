{
 "cells": [
  {
   "cell_type": "code",
   "execution_count": 1,
   "id": "93abf3e3-5a09-4e8a-922f-fb66f266c5dd",
   "metadata": {
    "tags": []
   },
   "outputs": [
    {
     "name": "stdout",
     "output_type": "stream",
     "text": [
      "Vocab size:  10080\n"
     ]
    }
   ],
   "source": [
    "# Use vocab.txt to build tokenizer\n",
    "from MSTokenizer import GlycoBartTokenizer\n",
    "\n",
    "workingDir = \"/Users/rudi/Data/GlycoBART/Sep24/trainfull/\"\n",
    "\n",
    "# Path to the vocab.txt file\n",
    "vocab_file_path = ''.join([workingDir, 'vocab.txt'])\n",
    "\n",
    "# Read the file and load it into a list\n",
    "with open(vocab_file_path, 'r') as file:\n",
    "    vocab_list = file.read().splitlines()\n",
    "    \n",
    "# Use the vocabulary to create a tokenizer\n",
    "tokenizer = GlycoBartTokenizer(vocab_list, max_seq_length=512)\n",
    "print('Vocab size: ', tokenizer.vocab_size)\n",
    "\n",
    "# Save tokenizer\n",
    "tokenizer_path = ''.join([workingDir, 'tokenizer/vocab.json'])\n",
    "tokenizer.save_vocabulary(path=tokenizer_path)"
   ]
  },
  {
   "cell_type": "code",
   "execution_count": 1,
   "id": "458d6b3a-d5b5-4d43-99c9-60e1cd403a7b",
   "metadata": {
    "tags": []
   },
   "outputs": [
    {
     "name": "stdout",
     "output_type": "stream",
     "text": [
      "Vocab size:  10080\n"
     ]
    }
   ],
   "source": [
    "#Load previously defined vocabulary\n",
    "from MSTokenizer import GlycoBartTokenizer\n",
    "\n",
    "#Testing loading vocabulary\n",
    "workingDir = \"/Users/rudi/Data/GlycoBART/Sep24/trainfull/\"\n",
    "\n",
    "# Specify the path to vocab.json\n",
    "path_to_vocab = ''.join([workingDir,'tokenizer/vocab.json'])\n",
    "\n",
    "# Use the load_vocabulary classmethod to load the vocabulary and create a tokenizer instance\n",
    "tokenizer = GlycoBartTokenizer.load_vocabulary(path=path_to_vocab)\n",
    "print('Vocab size: ', tokenizer.vocab_size)"
   ]
  },
  {
   "cell_type": "code",
   "execution_count": 2,
   "id": "21c4de27-3de4-49f9-b6de-eec5830b51f5",
   "metadata": {
    "tags": []
   },
   "outputs": [
    {
     "data": {
      "text/plain": [
       "512"
      ]
     },
     "execution_count": 2,
     "metadata": {},
     "output_type": "execute_result"
    }
   ],
   "source": [
    "tokenizer.max_seq_length"
   ]
  },
  {
   "cell_type": "code",
   "execution_count": 3,
   "id": "b5f01252-bdc0-4cb7-83b0-0ce2e705e6ab",
   "metadata": {
    "tags": []
   },
   "outputs": [],
   "source": [
    "# Prepare training corpus\n",
    "\n",
    "import torch\n",
    "import pickle\n",
    "\n",
    "# Load and tokenize MS training corpus\n",
    "with open('corpus_mz_bart.txt', 'r') as file:\n",
    "    input_lines = file.readlines()\n",
    "\n",
    "input_corpus = tokenizer.encode(input_lines)\n",
    "\n",
    "# Save tokenized input\n",
    "out = ''.join([workingDir, 'input_corpus.pt'])\n",
    "torch.save(input_corpus, out)\n",
    "\n",
    "# Load and tokenize glycan corpus\n",
    "with open('corpus_glycan.txt', 'r') as file:\n",
    "    output_lines = file.readlines()\n",
    "\n",
    "output_corpus = tokenizer.encode(output_lines)\n",
    "\n",
    "# Save tokenized output\n",
    "out_path = ''.join([workingDir, 'output_corpus.pt'])\n",
    "torch.save(output_corpus, out_path)"
   ]
  },
  {
   "cell_type": "code",
   "execution_count": 4,
   "id": "832238ce-9334-4264-80b1-e2e0e7cea0d0",
   "metadata": {
    "tags": []
   },
   "outputs": [
    {
     "data": {
      "text/plain": [
       "512"
      ]
     },
     "execution_count": 4,
     "metadata": {},
     "output_type": "execute_result"
    }
   ],
   "source": [
    "len(input_corpus['token_ids'][10])"
   ]
  },
  {
   "cell_type": "code",
   "execution_count": 5,
   "id": "47a9b90a-992a-4271-a9d2-3ffe13b4f5fd",
   "metadata": {
    "tags": []
   },
   "outputs": [
    {
     "data": {
      "text/plain": [
       "'PGC negative ESI reduced MSD CID O mz1682 mz1285 mz1345 mz1005 mz404 mz465 mz1284 mz1288 mz1283 mz1346 mz1346 mz1348 mz1531 mz1145 mz1622 mz945 mz1282 mz1344 mz1347 mz1008 mz1348 mz1343 mz705 mz458'"
      ]
     },
     "execution_count": 5,
     "metadata": {},
     "output_type": "execute_result"
    }
   ],
   "source": [
    "tokenizer.decode(input_corpus['token_ids'][10], skip_special_tokens=True)"
   ]
  },
  {
   "cell_type": "code",
   "execution_count": 6,
   "id": "63293722-574c-4a37-8249-781a57b6f8be",
   "metadata": {
    "tags": []
   },
   "outputs": [
    {
     "data": {
      "text/plain": [
       "'Neu5Ac a2-3 Gal b1-4 GlcNAc'"
      ]
     },
     "execution_count": 6,
     "metadata": {},
     "output_type": "execute_result"
    }
   ],
   "source": [
    "tokenizer.decode(output_corpus['token_ids'][0], skip_special_tokens=True)"
   ]
  },
  {
   "cell_type": "code",
   "execution_count": 7,
   "id": "38bb2d3f-dadf-444d-ab4c-0b8f59708569",
   "metadata": {
    "tags": []
   },
   "outputs": [
    {
     "data": {
      "text/plain": [
       "512"
      ]
     },
     "execution_count": 7,
     "metadata": {},
     "output_type": "execute_result"
    }
   ],
   "source": [
    "tokenizer.max_seq_length"
   ]
  },
  {
   "cell_type": "code",
   "execution_count": 8,
   "id": "04622a91-0af1-4a3d-b03b-ef1759aa9e48",
   "metadata": {
    "tags": []
   },
   "outputs": [
    {
     "data": {
      "text/plain": [
       "10080"
      ]
     },
     "execution_count": 8,
     "metadata": {},
     "output_type": "execute_result"
    }
   ],
   "source": [
    "tokenizer.vocab_size"
   ]
  },
  {
   "cell_type": "code",
   "execution_count": null,
   "id": "7cd41be0-08cd-4218-8c03-de94472f96c4",
   "metadata": {},
   "outputs": [],
   "source": []
  }
 ],
 "metadata": {
  "kernelspec": {
   "display_name": "Python 3 (ipykernel)",
   "language": "python",
   "name": "python3"
  },
  "language_info": {
   "codemirror_mode": {
    "name": "ipython",
    "version": 3
   },
   "file_extension": ".py",
   "mimetype": "text/x-python",
   "name": "python",
   "nbconvert_exporter": "python",
   "pygments_lexer": "ipython3",
   "version": "3.10.11"
  }
 },
 "nbformat": 4,
 "nbformat_minor": 5
}
