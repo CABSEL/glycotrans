{
 "cells": [
  {
   "cell_type": "code",
   "execution_count": 1,
   "id": "dc07fad3-3b0f-45c1-9a32-f45aa016d5f0",
   "metadata": {
    "tags": []
   },
   "outputs": [
    {
     "name": "stdout",
     "output_type": "stream",
     "text": [
      "Vocab size:  10010\n"
     ]
    }
   ],
   "source": [
    "# Use vocab.txt to build tokenizer\n",
    "from MSTokenizer import GlycoBertTokenizer\n",
    "\n",
    "workingDir = \"/Users/rudi/Data/GlycoBERT/Sep24/trainfull/\"\n",
    "\n",
    "# Path to the vocab.txt file\n",
    "vocab_file_path = ''.join([workingDir, './vocab.txt'])\n",
    "\n",
    "# Read the file and load it into a list\n",
    "with open(vocab_file_path, 'r') as file:\n",
    "    vocab_list = file.read().splitlines()\n",
    "    \n",
    "# Use the vocabulary to create a tokenizer\n",
    "tokenizer = GlycoBertTokenizer(vocab_list, max_seq_length=512)\n",
    "print('Vocab size: ', tokenizer.vocab_size)\n",
    "\n",
    "# Save tokenizer\n",
    "tokenizer_path = ''.join([workingDir, 'tokenizer/vocab.json'])\n",
    "tokenizer.save_vocabulary(path=tokenizer_path)"
   ]
  },
  {
   "cell_type": "code",
   "execution_count": 2,
   "id": "a991be29-16c0-43e7-931f-8ecf15652015",
   "metadata": {
    "tags": []
   },
   "outputs": [
    {
     "name": "stdout",
     "output_type": "stream",
     "text": [
      "Vocab size:  10010\n"
     ]
    }
   ],
   "source": [
    "# Use vocab.json to instantiate tokenizer\n",
    "from MSTokenizer import GlycoBertTokenizer\n",
    "\n",
    "workingDir = \"/Users/rudi/Data/GlycoBERT/Sep24/trainfull/\"\n",
    "\n",
    "# Path to tokenizer vocab.json\n",
    "vocab_path = ''.join([workingDir, 'tokenizer/vocab.json'])\n",
    "\n",
    "# Use the vocabulary to create a tokenizer\n",
    "tokenizer = GlycoBertTokenizer.load_vocabulary(path=vocab_path)\n",
    "print('Vocab size: ', tokenizer.vocab_size)"
   ]
  },
  {
   "cell_type": "code",
   "execution_count": 3,
   "id": "d4471da5-4ad2-4417-9d86-8c42ff9a7d95",
   "metadata": {},
   "outputs": [],
   "source": [
    "# Prepare full tensor\n",
    "\n",
    "import pickle\n",
    "import torch\n",
    "\n",
    "workingDir = \"/Users/rudi/Data/GlycoBERT/Sep24/trainfull/\"\n",
    "\n",
    "# Load and tokenize MS training corpus\n",
    "train_file = ''.join([workingDir,'corpus_mz.txt'])\n",
    "with open(train_file, 'r') as file:\n",
    "    train_lines = file.readlines()\n",
    "\n",
    "# Encode the lines using the tokenizer\n",
    "train_tensor = tokenizer.encode(train_lines)\n",
    "\n",
    "# Save tokenized input\n",
    "out = ''.join([workingDir, 'full_tensor.pt'])\n",
    "torch.save(train_tensor, out)"
   ]
  },
  {
   "cell_type": "code",
   "execution_count": null,
   "id": "f4091fea-2795-46b6-be5b-e052f2c7d254",
   "metadata": {},
   "outputs": [],
   "source": []
  }
 ],
 "metadata": {
  "kernelspec": {
   "display_name": "Python 3 (ipykernel)",
   "language": "python",
   "name": "python3"
  },
  "language_info": {
   "codemirror_mode": {
    "name": "ipython",
    "version": 3
   },
   "file_extension": ".py",
   "mimetype": "text/x-python",
   "name": "python",
   "nbconvert_exporter": "python",
   "pygments_lexer": "ipython3",
   "version": "3.10.11"
  }
 },
 "nbformat": 4,
 "nbformat_minor": 5
}
