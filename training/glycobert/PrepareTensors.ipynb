{
 "cells": [
  {
   "cell_type": "code",
   "execution_count": 1,
   "id": "d19c179a-f03a-4243-98a1-3e74d1c35e6a",
   "metadata": {},
   "outputs": [
    {
     "name": "stderr",
     "output_type": "stream",
     "text": [
      "C:\\ProgramData\\Anaconda3\\envs\\glycobertbart\\lib\\site-packages\\tqdm\\auto.py:21: TqdmWarning: IProgress not found. Please update jupyter and ipywidgets. See https://ipywidgets.readthedocs.io/en/stable/user_install.html\n",
      "  from .autonotebook import tqdm as notebook_tqdm\n"
     ]
    }
   ],
   "source": [
    "import pickle\n",
    "import torch\n",
    "from glycotrans.MSTokenizer import GlycoBertTokenizer"
   ]
  },
  {
   "cell_type": "code",
   "execution_count": 2,
   "id": "dc07fad3-3b0f-45c1-9a32-f45aa016d5f0",
   "metadata": {
    "tags": []
   },
   "outputs": [
    {
     "name": "stdout",
     "output_type": "stream",
     "text": [
      "Vocab size:  10010\n"
     ]
    }
   ],
   "source": [
    "# Use vocab_glycobert.txt to build tokenizer\n",
    "\n",
    "# Specify the path where the vocab_glycobert.txt file is saved\n",
    "vocab_txt= '../../glycotrans/vocab_glycobert.txt' \n",
    "# Read the file and load it into a list\n",
    "with open(vocab_txt, 'r') as file:\n",
    "    vocab_list = file.read().splitlines()\n",
    "    \n",
    "# Use the vocabulary to create a tokenizer\n",
    "tokenizer = GlycoBertTokenizer(vocab_list, max_seq_length=512)\n",
    "print('Vocab size: ', tokenizer.vocab_size)"
   ]
  },
  {
   "cell_type": "code",
   "execution_count": 3,
   "id": "d4471da5-4ad2-4417-9d86-8c42ff9a7d95",
   "metadata": {},
   "outputs": [],
   "source": [
    "# Prepare full tensor\n",
    "# Load and tokenize MS training corpus\n",
    "\n",
    "train_file = 'full_corpus_mz.txt'   # Specify the path where 'full_corpus_mz.txt' file was saved from GenerateMSCorpus.ipynb\n",
    "with open(train_file, 'r') as file:\n",
    "    train_lines = file.readlines()\n",
    "\n",
    "# Encode the lines using the tokenizer\n",
    "train_tensor = tokenizer.encode(train_lines)\n",
    "\n",
    "# Save tokenized input\n",
    "out = 'full_tensor.pt'   # Specify the path to save the the tokenized corpus tensor\n",
    "torch.save(train_tensor, out)"
   ]
  }
 ],
 "metadata": {
  "kernelspec": {
   "display_name": "Python 3 (ipykernel)",
   "language": "python",
   "name": "python3"
  },
  "language_info": {
   "codemirror_mode": {
    "name": "ipython",
    "version": 3
   },
   "file_extension": ".py",
   "mimetype": "text/x-python",
   "name": "python",
   "nbconvert_exporter": "python",
   "pygments_lexer": "ipython3",
   "version": "3.9.20"
  }
 },
 "nbformat": 4,
 "nbformat_minor": 5
}
