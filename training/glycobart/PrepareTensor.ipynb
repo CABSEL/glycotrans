{
 "cells": [
  {
   "cell_type": "code",
   "execution_count": null,
   "id": "9f4d87a9-5b20-425a-9d6a-ece44df8a62d",
   "metadata": {},
   "outputs": [],
   "source": [
    "import torch\n",
    "import pickle\n",
    "from glycotrans.MSTokenizer import GlycoBartTokenizer"
   ]
  },
  {
   "cell_type": "code",
   "execution_count": 1,
   "id": "93abf3e3-5a09-4e8a-922f-fb66f266c5dd",
   "metadata": {
    "tags": []
   },
   "outputs": [
    {
     "name": "stdout",
     "output_type": "stream",
     "text": [
      "Vocab size:  10080\n"
     ]
    }
   ],
   "source": [
    "# Use vocab_glycobart.txt to build tokenizer\n",
    "\n",
    "# Specify the path where the vocab_glycobart.txt file was saved from GenerateMSCorpus.ipynb\n",
    "vocab_txt= 'vocab_glycobart.txt'  \n",
    "\n",
    "# Read the file and load it into a list\n",
    "with open(vocab_txt, 'r') as file:\n",
    "    vocab_list = file.read().splitlines()\n",
    "    \n",
    "# Use the vocabulary to create a tokenizer\n",
    "tokenizer = GlycoBartTokenizer(vocab_list, max_seq_length=512)\n",
    "print('Vocab size: ', tokenizer.vocab_size)"
   ]
  },
  {
   "cell_type": "code",
   "execution_count": 3,
   "id": "b5f01252-bdc0-4cb7-83b0-0ce2e705e6ab",
   "metadata": {
    "tags": []
   },
   "outputs": [],
   "source": [
    "# Prepare training corpus \n",
    "# Load and tokenize MS training corpus\n",
    "\n",
    "with open('full_corpus_mz_bart.txt', 'r') as file:    # Specify the path where 'full_corpus_mz_bart.txt' file was saved from GenerateMSCorpus.ipynb\n",
    "    input_lines = file.readlines()\n",
    "input_corpus = tokenizer.encode(input_lines)\n",
    "\n",
    "# Save tokenized input\n",
    "out = 'input_corpus.pt'                               # Specify the path to save the the tokenized input corpus tensor\n",
    "torch.save(input_corpus, out)\n",
    "\n",
    "# Load and tokenize glycan corpus\n",
    "with open('full_corpus_glycan.txt', 'r') as file:     # Specify the path where 'full_corpus_glycan.txt' file was saved from GenerateMSCorpus.ipynb\n",
    "    output_lines = file.readlines()\n",
    "\n",
    "output_corpus = tokenizer.encode(output_lines)\n",
    "\n",
    "# Save tokenized output\n",
    "out_path = 'output_corpus.pt'                         # Specify the path to save the the tokenized output corpus tensor\n",
    "torch.save(output_corpus, out_path)"
   ]
  }
 ],
 "metadata": {
  "kernelspec": {
   "display_name": "Python 3 (ipykernel)",
   "language": "python",
   "name": "python3"
  },
  "language_info": {
   "codemirror_mode": {
    "name": "ipython",
    "version": 3
   },
   "file_extension": ".py",
   "mimetype": "text/x-python",
   "name": "python",
   "nbconvert_exporter": "python",
   "pygments_lexer": "ipython3",
   "version": "3.9.20"
  }
 },
 "nbformat": 4,
 "nbformat_minor": 5
}
